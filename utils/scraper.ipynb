{
 "cells": [
  {
   "cell_type": "code",
   "execution_count": 1,
   "metadata": {},
   "outputs": [],
   "source": [
    "import pandas as pd\n",
    "\n",
    "from selenium import webdriver\n",
    "from selenium.webdriver.common.keys import Keys\n",
    "from selenium.webdriver.common.by import By\n",
    "from selenium.webdriver.chrome.options import Options\n",
    "from selenium.webdriver.support.ui import WebDriverWait\n",
    "from selenium.webdriver.support import expected_conditions as EC\n",
    "\n",
    "import string\n",
    "import time\n",
    "import random"
   ]
  },
  {
   "cell_type": "code",
   "execution_count": 2,
   "metadata": {},
   "outputs": [],
   "source": [
    "def get_driver():\n",
    "    options = Options()\n",
    "    options.add_argument(\"--start-maximized\") #this line is used to maximize the browser window\n",
    "    options.add_argument(\"--ignore-certificate-errors-spki-list\") #this line is used to ignore certificate errors\n",
    "    options.add_argument('--ignore-ssl-errors') #this line is used to ignore ssl errors\n",
    "    \n",
    "    driver = webdriver.Chrome(options=options)\n",
    "    return driver"
   ]
  },
  {
   "cell_type": "code",
   "execution_count": 3,
   "metadata": {},
   "outputs": [
    {
     "name": "stdout",
     "output_type": "stream",
     "text": [
      "['a', 'b', 'c', 'd', 'e', 'f', 'g', 'h', 'i', 'j', 'k', 'l', 'm', 'n', 'o', 'p', 'q', 'r', 's', 't', 'u', 'v', 'w', 'x', 'y', 'z']\n"
     ]
    }
   ],
   "source": [
    "lowercase_letters = list(string.ascii_lowercase)\n",
    "print(lowercase_letters)"
   ]
  },
  {
   "cell_type": "code",
   "execution_count": 4,
   "metadata": {},
   "outputs": [],
   "source": [
    "def scrape_healthhub_links():\n",
    "    \n",
    "    #setup dataframe with columns datetime, title, text, link\n",
    "    df = pd.DataFrame(columns=['title', 'text', 'link'])\n",
    "    \n",
    "    driver = get_driver()\n",
    "    wait = WebDriverWait(driver, 15) #this line is used to wait for the page to load\n",
    "    \n",
    "    base_url = 'https://www.healthhub.sg/a-z/' #there is a website for each letter of the alphabet\n",
    "    \n",
    "    for letter in lowercase_letters:\n",
    "        website = base_url + letter\n",
    "        \n",
    "        driver.get(website)\n",
    "        driver.implicitly_wait(15)\n",
    "        \n",
    "        #get the class called 'index_text' which contains all the links via XPath\n",
    "        links = wait.until(EC.presence_of_all_elements_located((By.XPATH, '/html/body/div/div[2]/div/div/div[1]/div/div/div/div[1]/div/div[1]/div/section/div/div[2]/div[2]/div[1]')))\n",
    "        for element in links:\n",
    "            #find all <a> tags\n",
    "            a_tags = element.find_elements(By.TAG_NAME, 'a')\n",
    "            for a_tag in a_tags:\n",
    "                #get the title and link\n",
    "                title = a_tag.text\n",
    "                link = a_tag.get_attribute('href')\n",
    "                text = ''\n",
    "                \n",
    "                #add to dataframe\n",
    "                df = pd.concat([df, pd.DataFrame([[title, text, link]], columns=['title', 'text', 'link'])], ignore_index=True)\n",
    "        \n",
    "        time.sleep(3 + 10 * random.random())\n",
    "        \n",
    "    \n",
    "    driver.quit()\n",
    "    return df"
   ]
  },
  {
   "cell_type": "code",
   "execution_count": 7,
   "metadata": {},
   "outputs": [],
   "source": [
    "def scrape_healthhub_text(df):\n",
    "    \n",
    "    driver = get_driver()\n",
    "    wait = WebDriverWait(driver, 15) #this line is used to wait for the page to load\n",
    "    \n",
    "    for index, row in df.iterrows():\n",
    "        \n",
    "        #check if text is already present\n",
    "        if row['text']:\n",
    "            continue\n",
    "        \n",
    "        driver.get(row['link'])\n",
    "        driver.implicitly_wait(15)\n",
    "        \n",
    "        text = ''\n",
    "        \n",
    "        title = wait.until(EC.presence_of_element_located((By.XPATH, '/html/body/div/div[2]/div/div/section[2]/div/div/div[2]/div/p')))\n",
    "        text += title.text + '\\n'\n",
    "        \n",
    "        body = wait.until(EC.presence_of_element_located((By.XPATH, '/html/body/div/div[2]/div/div/section[2]/div/div/div[2]/div/div[1]')))\n",
    "        text += body.text + '\\n'\n",
    "        \n",
    "        df.at[index, 'text'] = text\n",
    "        \n",
    "        #create snapshot of dataframe after every article\n",
    "        df.to_csv('healthhub_links_with_text.csv', index=False)\n",
    "        \n",
    "        time.sleep(5 + 3 * random.random())\n",
    "    \n",
    "    driver.quit()\n",
    "    return df\n",
    "    \n",
    "    "
   ]
  },
  {
   "cell_type": "code",
   "execution_count": 5,
   "metadata": {},
   "outputs": [],
   "source": [
    "##########################################################################\n",
    "# Only run if you need to remake the csv file containing links but no text\n",
    "##########################################################################\n",
    "\n",
    "#first_df = scrape_healthhub_links() #only contains title and link of each article\n",
    "#first_df.to_csv('healthhub_links_no_text.csv', index=False) #save to csv"
   ]
  },
  {
   "cell_type": "code",
   "execution_count": 6,
   "metadata": {},
   "outputs": [],
   "source": [
    "#first_df = pd.read_csv('healthhub_links_no_text.csv') #use this if you are running the code for the first time\n",
    "first_df = pd.read_csv('healthhub_links_with_text.csv') #use this if the csv already exists so you don't have to scrape from the start"
   ]
  },
  {
   "cell_type": "code",
   "execution_count": 8,
   "metadata": {},
   "outputs": [],
   "source": [
    "##########################################################################\n",
    "# Only run if you need to remake the csv file containing links with text\n",
    "##########################################################################\n",
    "\n",
    "#final_df = scrape_healthhub_text(first_df)\n",
    "#final_df.to_csv('healthhub_data.csv', index=False) #save to csv"
   ]
  }
 ],
 "metadata": {
  "kernelspec": {
   "display_name": "Python 3",
   "language": "python",
   "name": "python3"
  },
  "language_info": {
   "codemirror_mode": {
    "name": "ipython",
    "version": 3
   },
   "file_extension": ".py",
   "mimetype": "text/x-python",
   "name": "python",
   "nbconvert_exporter": "python",
   "pygments_lexer": "ipython3",
   "version": "3.10.5"
  }
 },
 "nbformat": 4,
 "nbformat_minor": 2
}
