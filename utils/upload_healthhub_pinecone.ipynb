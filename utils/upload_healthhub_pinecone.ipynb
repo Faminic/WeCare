{
 "cells": [
  {
   "cell_type": "code",
   "execution_count": 1,
   "metadata": {},
   "outputs": [],
   "source": [
    "import os\n",
    "import pandas as pd\n",
    "import openai\n",
    "import uuid\n",
    "from tqdm import tqdm\n",
    "from pinecone import Pinecone, PodSpec\n",
    "from langchain.text_splitter import RecursiveCharacterTextSplitter #to split the text into smaller chunks\n",
    "from langchain.embeddings.openai import OpenAIEmbeddings #to convert text to embeddings for Pinecone vector DB"
   ]
  },
  {
   "cell_type": "code",
   "execution_count": 2,
   "metadata": {},
   "outputs": [],
   "source": [
    "#Setting up some variables\n",
    "openai_api_key = os.environ.get(\"OPENAI_API_KEY\")\n",
    "pinecone_api_key = os.environ.get(\"PINECONE_API_KEY\")\n",
    "pinecone_environment = os.environ.get(\"PINECONE_ENVIRONMENT\")\n",
    "pinecone_index_name = 'test'\n",
    "pinecone_namespace = 'healthhub'"
   ]
  },
  {
   "cell_type": "code",
   "execution_count": 3,
   "metadata": {},
   "outputs": [
    {
     "name": "stderr",
     "output_type": "stream",
     "text": [
      "C:\\Users\\faisa\\AppData\\Roaming\\Python\\Python310\\site-packages\\langchain_core\\_api\\deprecation.py:117: LangChainDeprecationWarning: The class `langchain_community.embeddings.openai.OpenAIEmbeddings` was deprecated in langchain-community 0.1.0 and will be removed in 0.2.0. An updated version of the class exists in the langchain-openai package and should be used instead. To use it run `pip install -U langchain-openai` and import as `from langchain_openai import OpenAIEmbeddings`.\n",
      "  warn_deprecated(\n"
     ]
    }
   ],
   "source": [
    "#setting up pinecone\n",
    "pc = Pinecone(api_key=pinecone_api_key, environment=pinecone_environment)\n",
    "spec = PodSpec(environment=pinecone_environment)\n",
    "\n",
    "if pinecone_index_name in pc.list_indexes().names():\n",
    "    index = pc.Index(pinecone_index_name)\n",
    "else:\n",
    "    raise Exception('Pinecone Index not set up or running')\n",
    "\n",
    "#setting up text splitter\n",
    "text_splitter = RecursiveCharacterTextSplitter(\n",
    "    chunk_size=200, #larger chunk sizes means we retain more context, but more expensive API calls to OpenAI\n",
    "    chunk_overlap=20,\n",
    ")\n",
    "\n",
    "#setting up embeddings\n",
    "embed = OpenAIEmbeddings(\n",
    "    model='text-embedding-ada-002',\n",
    "    openai_api_key=openai_api_key\n",
    ")"
   ]
  },
  {
   "cell_type": "code",
   "execution_count": 4,
   "metadata": {},
   "outputs": [],
   "source": [
    "#function to read healthhub data into pinecone\n",
    "def healthhub_data_into_pinecone():\n",
    "    df = pd.read_csv(\"documents/healthhub_data.csv\")\n",
    "    \n",
    "    vectors = []\n",
    "    \n",
    "    for i in tqdm(range(len(df))):\n",
    "        text = df['title'][i] + \" \" + df['text'][i]\n",
    "        \n",
    "        chunks = text_splitter.split_text(text) #splitting the text into smaller chunks\n",
    "        \n",
    "        for chunk in chunks:\n",
    "            embed_text = embed.embed_query(chunk) #embedding each chunk\n",
    "            id = uuid.uuid4().hex\n",
    "            vectors.append(\n",
    "                {\n",
    "                    'metadata': {\n",
    "                        'text': chunk\n",
    "                    },\n",
    "                    'id': id,\n",
    "                    'values': embed_text\n",
    "                }\n",
    "            )\n",
    "            \n",
    "            #recommended to batch insert vectors, with each batch being around 100 vectors\n",
    "            if len(vectors) > 70:\n",
    "                index.upsert(vectors, namespace=pinecone_namespace)\n",
    "                vectors = []\n",
    "\n",
    "    if len(vectors) > 0:\n",
    "        index.upsert(vectors, namespace=pinecone_namespace)\n",
    "        vectors = []\n",
    "    "
   ]
  },
  {
   "cell_type": "code",
   "execution_count": 5,
   "metadata": {},
   "outputs": [
    {
     "name": "stderr",
     "output_type": "stream",
     "text": [
      "100%|██████████| 974/974 [3:11:05<00:00, 11.77s/it]  \n"
     ]
    }
   ],
   "source": [
    "#healthhub_data_into_pinecone() #uncomment if you need to insert all the healthhub data into pinecone\n",
    "#index.delete(delete_all=True, namespace=pinecone_namespace) #uncomment if you want to delete all healthhub vectors in the index"
   ]
  }
 ],
 "metadata": {
  "kernelspec": {
   "display_name": "Python 3",
   "language": "python",
   "name": "python3"
  },
  "language_info": {
   "codemirror_mode": {
    "name": "ipython",
    "version": 3
   },
   "file_extension": ".py",
   "mimetype": "text/x-python",
   "name": "python",
   "nbconvert_exporter": "python",
   "pygments_lexer": "ipython3",
   "version": "3.10.5"
  }
 },
 "nbformat": 4,
 "nbformat_minor": 2
}
